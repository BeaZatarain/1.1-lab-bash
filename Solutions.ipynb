{
 "cells": [
  {
   "cell_type": "code",
   "execution_count": 1,
   "id": "3fa9a23f",
   "metadata": {},
   "outputs": [
    {
     "name": "stdout",
     "output_type": "stream",
     "text": [
      " El volumen de la unidad C es OS\n",
      " El número de serie del volumen es: 348E-E31F\n",
      "\n",
      " Directorio de C:\\Users\\Usuario\\Desktop\\EJERCICIOS_IRONHACK\\1.1-lab-bash\n",
      "\n",
      "16/01/2023  17:27    <DIR>          .\n",
      "16/01/2023  14:05    <DIR>          ..\n",
      "16/01/2023  17:26    <DIR>          .ipynb_checkpoints\n",
      "16/01/2023  13:52           111.075 IMG-20220301-WA0001.jpg\n",
      "16/01/2023  14:05    <DIR>          lorem\n",
      "16/01/2023  14:05             3.613 README.md\n",
      "16/01/2023  17:27               589 Solutions.ipynb\n",
      "               3 archivos        115.277 bytes\n",
      "               4 dirs  419.077.570.560 bytes libres\n"
     ]
    }
   ],
   "source": [
    "ls"
   ]
  },
  {
   "cell_type": "markdown",
   "id": "4771d96b",
   "metadata": {},
   "source": [
    "Imprime en consola Hello World."
   ]
  },
  {
   "cell_type": "code",
   "execution_count": null,
   "id": "e315e3c6",
   "metadata": {},
   "outputs": [],
   "source": [
    "PS C:\\Users\\Usuario\\desktop\\EJERCICIOS_IRONHACK\\1.1-lab-bash> echo 'Hello World'\n",
    "Hello World"
   ]
  },
  {
   "cell_type": "markdown",
   "id": "0e4c773f",
   "metadata": {},
   "source": [
    "Crea un directorio nuevo llamado new_dir."
   ]
  },
  {
   "cell_type": "code",
   "execution_count": null,
   "id": "b8d25c2c",
   "metadata": {},
   "outputs": [],
   "source": [
    "PS C:\\Users\\Usuario\\desktop\\EJERCICIOS_IRONHACK\\1.1-lab-bash> md ejercicio_2\n",
    "\n",
    "\n",
    "    Directorio:\n",
    "    C:\\Users\\Usuario\\desktop\\EJERCICIOS_IRONHACK\\1.1-lab-bash\n",
    "\n",
    "\n",
    "Mode                 LastWriteTime         Length Name\n",
    "----                 -------------         ------ ----\n",
    "d-----        16/01/2023     17:34                ejercicio_2\n",
    "#Perdón! He llamado al directorio \"Ejercicio_2\""
   ]
  },
  {
   "cell_type": "markdown",
   "id": "5136533e",
   "metadata": {},
   "source": [
    "Elimina ese directorio."
   ]
  },
  {
   "cell_type": "code",
   "execution_count": null,
   "id": "ef8da42e",
   "metadata": {},
   "outputs": [],
   "source": [
    "PS C:\\Users\\Usuario\\desktop\\EJERCICIOS_IRONHACK\\1.1-lab-bash> rm -r ejercicio_2\n",
    "PS C:\\Users\\Usuario\\desktop\\EJERCICIOS_IRONHACK\\1.1-lab-bash>"
   ]
  },
  {
   "cell_type": "markdown",
   "id": "783ba5e9",
   "metadata": {},
   "source": [
    "Copia el archivo sed.txt dentro de la carpeta lorem a la carpeta lorem-copy. TIP: Puede ser necesario crear la carpeta lorem-copy primero."
   ]
  },
  {
   "cell_type": "code",
   "execution_count": null,
   "id": "0b3cacdc",
   "metadata": {},
   "outputs": [],
   "source": []
  }
 ],
 "metadata": {
  "kernelspec": {
   "display_name": "Python 3 (ipykernel)",
   "language": "python",
   "name": "python3"
  },
  "language_info": {
   "codemirror_mode": {
    "name": "ipython",
    "version": 3
   },
   "file_extension": ".py",
   "mimetype": "text/x-python",
   "name": "python",
   "nbconvert_exporter": "python",
   "pygments_lexer": "ipython3",
   "version": "3.9.13"
  }
 },
 "nbformat": 4,
 "nbformat_minor": 5
}
